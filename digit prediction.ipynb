{
  "nbformat": 4,
  "nbformat_minor": 0,
  "metadata": {
    "colab": {
      "name": "Untitled3.ipynb",
      "provenance": [],
      "authorship_tag": "ABX9TyPG9swYcOEtgC1PXehQ750H",
      "include_colab_link": true
    },
    "kernelspec": {
      "name": "python3",
      "display_name": "Python 3"
    },
    "language_info": {
      "name": "python"
    }
  },
  "cells": [
    {
      "cell_type": "markdown",
      "metadata": {
        "id": "view-in-github",
        "colab_type": "text"
      },
      "source": [
        "<a href=\"https://colab.research.google.com/github/ayshahibaa/machine-learning/blob/main/digit%20prediction.ipynb\" target=\"_parent\"><img src=\"https://colab.research.google.com/assets/colab-badge.svg\" alt=\"Open In Colab\"/></a>"
      ]
    },
    {
      "cell_type": "code",
      "execution_count": 1,
      "metadata": {
        "id": "nnORgpVe1SgS"
      },
      "outputs": [],
      "source": [
        "import pandas as pd"
      ]
    },
    {
      "cell_type": "code",
      "source": [
        "import numpy as np"
      ],
      "metadata": {
        "id": "lj6zwePo1lrU"
      },
      "execution_count": 5,
      "outputs": []
    },
    {
      "cell_type": "code",
      "source": [
        "import matplotlib.pyplot as plt"
      ],
      "metadata": {
        "id": "BYeX7yLN1q_n"
      },
      "execution_count": 6,
      "outputs": []
    },
    {
      "cell_type": "code",
      "source": [
        ""
      ],
      "metadata": {
        "id": "b_PEuX0V1uq5"
      },
      "execution_count": null,
      "outputs": []
    },
    {
      "cell_type": "code",
      "source": [
        "from sklearn.datasets import load_digits"
      ],
      "metadata": {
        "id": "o_JSh7QR1emw"
      },
      "execution_count": 15,
      "outputs": []
    },
    {
      "cell_type": "code",
      "source": [
        "df = load_digits()\n"
      ],
      "metadata": {
        "id": "9SZAhIdO11uK"
      },
      "execution_count": 16,
      "outputs": []
    },
    {
      "cell_type": "code",
      "source": [
        "_, axes = plt.subplots(nrows=1,ncols=4, figsize=(10,3))\n",
        "for ax, image, label in zip(axes, df.images, df.target):\n",
        "    ax.set_axis_off()\n",
        "    ax.imshow(image, cmap=plt.cm.gray_r, interpolation=\"nearest\")\n",
        "    ax.set_title(\"Training: %i\" % label)"
      ],
      "metadata": {
        "colab": {
          "base_uri": "https://localhost:8080/",
          "height": 168
        },
        "id": "O9F_oFjU14oL",
        "outputId": "80961640-bedb-4522-8543-0a3b355ea71b"
      },
      "execution_count": 18,
      "outputs": [
        {
          "output_type": "display_data",
          "data": {
            "text/plain": [
              "<Figure size 720x216 with 4 Axes>"
            ],
            "image/png": "[encoded data removed]"
          },
          "metadata": {
            "needs_background": "light"
          }
        }
      ]
    },
    {
      "cell_type": "code",
      "source": [
        "df.images.shape"
      ],
      "metadata": {
        "colab": {
          "base_uri": "https://localhost:8080/"
        },
        "id": "OBYqjXBk3Q2A",
        "outputId": "737e9299-9565-4acd-8757-bd1e400b39e1"
      },
      "execution_count": 20,
      "outputs": [
        {
          "output_type": "execute_result",
          "data": {
            "text/plain": [
              "(1797, 8, 8)"
            ]
          },
          "metadata": {},
          "execution_count": 20
        }
      ]
    },
    {
      "cell_type": "code",
      "source": [
        "df.images[0]"
      ],
      "metadata": {
        "colab": {
          "base_uri": "https://localhost:8080/"
        },
        "id": "1J5HUlHi3Q_L",
        "outputId": "be320094-7a00-4691-c1b4-0bdf54d96e55"
      },
      "execution_count": 21,
      "outputs": [
        {
          "output_type": "execute_result",
          "data": {
            "text/plain": [
              "array([[ 0.,  0.,  5., 13.,  9.,  1.,  0.,  0.],\n",
              "       [ 0.,  0., 13., 15., 10., 15.,  5.,  0.],\n",
              "       [ 0.,  3., 15.,  2.,  0., 11.,  8.,  0.],\n",
              "       [ 0.,  4., 12.,  0.,  0.,  8.,  8.,  0.],\n",
              "       [ 0.,  5.,  8.,  0.,  0.,  9.,  8.,  0.],\n",
              "       [ 0.,  4., 11.,  0.,  1., 12.,  7.,  0.],\n",
              "       [ 0.,  2., 14.,  5., 10., 12.,  0.,  0.],\n",
              "       [ 0.,  0.,  6., 13., 10.,  0.,  0.,  0.]])"
            ]
          },
          "metadata": {},
          "execution_count": 21
        }
      ]
    },
    {
      "cell_type": "code",
      "source": [
        "df.images[0].shape"
      ],
      "metadata": {
        "colab": {
          "base_uri": "https://localhost:8080/"
        },
        "id": "kh9PrZsO3RCt",
        "outputId": "4cb173ae-fb1e-47fe-f5c3-d6c66688a7a1"
      },
      "execution_count": 22,
      "outputs": [
        {
          "output_type": "execute_result",
          "data": {
            "text/plain": [
              "(8, 8)"
            ]
          },
          "metadata": {},
          "execution_count": 22
        }
      ]
    },
    {
      "cell_type": "code",
      "source": [
        "len(df.images)"
      ],
      "metadata": {
        "colab": {
          "base_uri": "https://localhost:8080/"
        },
        "id": "1qVQBr4Q3RFy",
        "outputId": "ecf62764-fce1-42a0-fe18-c17cd42c91e9"
      },
      "execution_count": 25,
      "outputs": [
        {
          "output_type": "execute_result",
          "data": {
            "text/plain": [
              "1797"
            ]
          },
          "metadata": {},
          "execution_count": 25
        }
      ]
    },
    {
      "cell_type": "code",
      "source": [
        "n_samples = len(df.images)\n",
        "data = df.images.reshape((n_samples,-1))"
      ],
      "metadata": {
        "id": "4Dkqdq6c3a1P"
      },
      "execution_count": 27,
      "outputs": []
    },
    {
      "cell_type": "code",
      "source": [
        "data[0]"
      ],
      "metadata": {
        "colab": {
          "base_uri": "https://localhost:8080/"
        },
        "id": "cGZ2xWLe3ax3",
        "outputId": "cef3837b-f347-4181-a757-596f46382925"
      },
      "execution_count": 28,
      "outputs": [
        {
          "output_type": "execute_result",
          "data": {
            "text/plain": [
              "array([ 0.,  0.,  5., 13.,  9.,  1.,  0.,  0.,  0.,  0., 13., 15., 10.,\n",
              "       15.,  5.,  0.,  0.,  3., 15.,  2.,  0., 11.,  8.,  0.,  0.,  4.,\n",
              "       12.,  0.,  0.,  8.,  8.,  0.,  0.,  5.,  8.,  0.,  0.,  9.,  8.,\n",
              "        0.,  0.,  4., 11.,  0.,  1., 12.,  7.,  0.,  0.,  2., 14.,  5.,\n",
              "       10., 12.,  0.,  0.,  0.,  0.,  6., 13., 10.,  0.,  0.,  0.])"
            ]
          },
          "metadata": {},
          "execution_count": 28
        }
      ]
    },
    {
      "cell_type": "code",
      "source": [
        "data[0].shape"
      ],
      "metadata": {
        "colab": {
          "base_uri": "https://localhost:8080/"
        },
        "id": "Yd__uQOw3au1",
        "outputId": "bcf92fec-c843-40a8-b35e-9a7d661b41ce"
      },
      "execution_count": 29,
      "outputs": [
        {
          "output_type": "execute_result",
          "data": {
            "text/plain": [
              "(64,)"
            ]
          },
          "metadata": {},
          "execution_count": 29
        }
      ]
    },
    {
      "cell_type": "code",
      "source": [
        "data.shape"
      ],
      "metadata": {
        "colab": {
          "base_uri": "https://localhost:8080/"
        },
        "id": "VczsHtjo3asK",
        "outputId": "b52926e3-0209-49b3-da9f-534a4a68996c"
      },
      "execution_count": 30,
      "outputs": [
        {
          "output_type": "execute_result",
          "data": {
            "text/plain": [
              "(1797, 64)"
            ]
          },
          "metadata": {},
          "execution_count": 30
        }
      ]
    },
    {
      "cell_type": "code",
      "source": [
        ""
      ],
      "metadata": {
        "id": "dEsRPuOX3apB"
      },
      "execution_count": null,
      "outputs": []
    },
    {
      "cell_type": "code",
      "source": [
        "data.min()"
      ],
      "metadata": {
        "colab": {
          "base_uri": "https://localhost:8080/"
        },
        "id": "-DJyQo8U3al_",
        "outputId": "4809d785-127d-411d-c58f-d89faad31b55"
      },
      "execution_count": 31,
      "outputs": [
        {
          "output_type": "execute_result",
          "data": {
            "text/plain": [
              "0.0"
            ]
          },
          "metadata": {},
          "execution_count": 31
        }
      ]
    },
    {
      "cell_type": "code",
      "source": [
        "data.max()"
      ],
      "metadata": {
        "colab": {
          "base_uri": "https://localhost:8080/"
        },
        "id": "vzkEp8kn35RK",
        "outputId": "ade85fd0-7c4b-49fd-8d47-7c2119c4a48d"
      },
      "execution_count": 32,
      "outputs": [
        {
          "output_type": "execute_result",
          "data": {
            "text/plain": [
              "16.0"
            ]
          },
          "metadata": {},
          "execution_count": 32
        }
      ]
    },
    {
      "cell_type": "code",
      "source": [
        "data = data/16"
      ],
      "metadata": {
        "id": "fEQarLZX35OU"
      },
      "execution_count": 33,
      "outputs": []
    },
    {
      "cell_type": "code",
      "source": [
        "data.min()"
      ],
      "metadata": {
        "colab": {
          "base_uri": "https://localhost:8080/"
        },
        "id": "glSQ6nti35LZ",
        "outputId": "5364d777-9b21-4ce5-fafb-5280c99426e3"
      },
      "execution_count": 36,
      "outputs": [
        {
          "output_type": "execute_result",
          "data": {
            "text/plain": [
              "0.0"
            ]
          },
          "metadata": {},
          "execution_count": 36
        }
      ]
    },
    {
      "cell_type": "code",
      "source": [
        "data.max()"
      ],
      "metadata": {
        "colab": {
          "base_uri": "https://localhost:8080/"
        },
        "id": "ahWOW7TW35IV",
        "outputId": "173d50ac-37b4-4083-d503-0c2d0fe6ab42"
      },
      "execution_count": 37,
      "outputs": [
        {
          "output_type": "execute_result",
          "data": {
            "text/plain": [
              "1.0"
            ]
          },
          "metadata": {},
          "execution_count": 37
        }
      ]
    },
    {
      "cell_type": "code",
      "source": [
        "data[0]"
      ],
      "metadata": {
        "colab": {
          "base_uri": "https://localhost:8080/"
        },
        "id": "7CNRe75035FT",
        "outputId": "42897591-d805-4fbd-9ff2-0a15f21fd984"
      },
      "execution_count": 38,
      "outputs": [
        {
          "output_type": "execute_result",
          "data": {
            "text/plain": [
              "array([0.    , 0.    , 0.3125, 0.8125, 0.5625, 0.0625, 0.    , 0.    ,\n",
              "       0.    , 0.    , 0.8125, 0.9375, 0.625 , 0.9375, 0.3125, 0.    ,\n",
              "       0.    , 0.1875, 0.9375, 0.125 , 0.    , 0.6875, 0.5   , 0.    ,\n",
              "       0.    , 0.25  , 0.75  , 0.    , 0.    , 0.5   , 0.5   , 0.    ,\n",
              "       0.    , 0.3125, 0.5   , 0.    , 0.    , 0.5625, 0.5   , 0.    ,\n",
              "       0.    , 0.25  , 0.6875, 0.    , 0.0625, 0.75  , 0.4375, 0.    ,\n",
              "       0.    , 0.125 , 0.875 , 0.3125, 0.625 , 0.75  , 0.    , 0.    ,\n",
              "       0.    , 0.    , 0.375 , 0.8125, 0.625 , 0.    , 0.    , 0.    ])"
            ]
          },
          "metadata": {},
          "execution_count": 38
        }
      ]
    },
    {
      "cell_type": "code",
      "source": [
        ""
      ],
      "metadata": {
        "id": "egfskWQg35Co"
      },
      "execution_count": null,
      "outputs": []
    },
    {
      "cell_type": "code",
      "source": [
        "from sklearn.model_selection import train_test_split"
      ],
      "metadata": {
        "id": "LgHeWWRn34_K"
      },
      "execution_count": 40,
      "outputs": []
    },
    {
      "cell_type": "code",
      "source": [
        "X_train,X_test,y_train,y_test = train_test_split(data,df.target,test_size=0.3)"
      ],
      "metadata": {
        "id": "pOt6SjZw4cCu"
      },
      "execution_count": 41,
      "outputs": []
    },
    {
      "cell_type": "code",
      "source": [
        "X_train.shape,X_test.shape,y_train.shape,y_test.shape "
      ],
      "metadata": {
        "colab": {
          "base_uri": "https://localhost:8080/"
        },
        "id": "GtCRH8E_4wvZ",
        "outputId": "c4b1aa8e-5fea-4652-e35f-1a74cecb1114"
      },
      "execution_count": 42,
      "outputs": [
        {
          "output_type": "execute_result",
          "data": {
            "text/plain": [
              "((1257, 64), (540, 64), (1257,), (540,))"
            ]
          },
          "metadata": {},
          "execution_count": 42
        }
      ]
    },
    {
      "cell_type": "code",
      "source": [
        ""
      ],
      "metadata": {
        "id": "y19IaroE4b9H"
      },
      "execution_count": null,
      "outputs": []
    },
    {
      "cell_type": "code",
      "source": [
        "from sklearn.ensemble import RandomForestClassifier"
      ],
      "metadata": {
        "id": "GEZOVwXm4b6G"
      },
      "execution_count": 43,
      "outputs": []
    },
    {
      "cell_type": "code",
      "source": [
        "rf = RandomForestClassifier()"
      ],
      "metadata": {
        "id": "S83zLBS-4b3J"
      },
      "execution_count": 44,
      "outputs": []
    },
    {
      "cell_type": "code",
      "source": [
        "rf.fit(X_train,y_train)"
      ],
      "metadata": {
        "colab": {
          "base_uri": "https://localhost:8080/"
        },
        "id": "bHRLVkfs5BcI",
        "outputId": "a227d4d6-a46a-4cb1-9156-7aed467c3c30"
      },
      "execution_count": 45,
      "outputs": [
        {
          "output_type": "execute_result",
          "data": {
            "text/plain": [
              "RandomForestClassifier()"
            ]
          },
          "metadata": {},
          "execution_count": 45
        }
      ]
    },
    {
      "cell_type": "code",
      "source": [
        "y_pred= rf.predict(X_test)"
      ],
      "metadata": {
        "id": "n7Uhuyd_5BqU"
      },
      "execution_count": 46,
      "outputs": []
    },
    {
      "cell_type": "code",
      "source": [
        "y_pred"
      ],
      "metadata": {
        "colab": {
          "base_uri": "https://localhost:8080/"
        },
        "id": "tFGWzso85B3F",
        "outputId": "d0ebfd84-bdef-4d93-e2e7-38959cf5a62f"
      },
      "execution_count": 47,
      "outputs": [
        {
          "output_type": "execute_result",
          "data": {
            "text/plain": [
              "array([7, 2, 7, 7, 6, 4, 9, 5, 3, 5, 6, 5, 6, 2, 2, 4, 4, 4, 7, 0, 2, 2,\n",
              "       7, 2, 5, 5, 8, 1, 3, 6, 7, 5, 2, 0, 1, 8, 6, 9, 7, 7, 8, 4, 8, 2,\n",
              "       7, 8, 0, 6, 2, 9, 2, 7, 8, 3, 5, 1, 3, 0, 8, 1, 9, 2, 1, 1, 1, 0,\n",
              "       6, 9, 9, 8, 3, 2, 1, 4, 8, 3, 3, 9, 5, 9, 1, 3, 9, 9, 5, 5, 8, 7,\n",
              "       1, 7, 0, 6, 5, 3, 5, 3, 4, 1, 0, 3, 0, 4, 1, 1, 8, 1, 1, 3, 0, 1,\n",
              "       2, 7, 7, 1, 6, 6, 5, 7, 3, 6, 9, 6, 6, 5, 2, 5, 1, 0, 1, 4, 5, 9,\n",
              "       0, 7, 6, 7, 4, 7, 7, 6, 9, 5, 5, 4, 0, 5, 8, 9, 8, 8, 7, 8, 3, 4,\n",
              "       5, 0, 2, 9, 5, 4, 0, 7, 8, 4, 2, 2, 0, 2, 0, 6, 7, 3, 4, 5, 3, 5,\n",
              "       7, 0, 4, 5, 1, 3, 8, 3, 9, 2, 0, 2, 6, 8, 1, 5, 2, 9, 4, 3, 7, 9,\n",
              "       5, 4, 1, 5, 3, 5, 0, 2, 8, 9, 1, 7, 8, 1, 8, 7, 2, 3, 1, 6, 0, 5,\n",
              "       9, 9, 3, 5, 5, 5, 7, 6, 4, 1, 3, 5, 8, 7, 8, 2, 0, 9, 1, 8, 9, 5,\n",
              "       7, 9, 6, 8, 6, 5, 9, 2, 6, 7, 4, 8, 6, 1, 2, 9, 8, 8, 5, 7, 3, 3,\n",
              "       0, 9, 5, 2, 1, 7, 4, 3, 6, 7, 6, 0, 0, 5, 8, 9, 2, 8, 6, 7, 8, 8,\n",
              "       5, 2, 5, 6, 8, 9, 4, 3, 8, 0, 8, 3, 5, 4, 0, 2, 8, 0, 0, 2, 3, 1,\n",
              "       8, 9, 6, 6, 3, 4, 6, 4, 1, 9, 2, 8, 9, 3, 1, 7, 0, 9, 2, 9, 1, 6,\n",
              "       9, 5, 7, 3, 5, 5, 1, 4, 3, 9, 8, 3, 9, 0, 6, 5, 8, 0, 0, 5, 6, 3,\n",
              "       4, 4, 7, 8, 5, 3, 4, 1, 8, 1, 3, 9, 0, 9, 8, 4, 2, 5, 1, 5, 2, 8,\n",
              "       4, 7, 3, 7, 7, 7, 7, 1, 5, 9, 3, 0, 4, 3, 1, 8, 8, 6, 7, 8, 5, 6,\n",
              "       9, 2, 8, 7, 1, 1, 1, 3, 0, 1, 4, 5, 4, 9, 4, 3, 3, 1, 1, 1, 9, 4,\n",
              "       0, 1, 2, 4, 1, 6, 5, 5, 7, 7, 6, 4, 5, 8, 6, 8, 6, 9, 3, 8, 6, 8,\n",
              "       9, 6, 8, 2, 8, 5, 1, 5, 4, 6, 6, 8, 3, 9, 0, 4, 4, 7, 0, 7, 4, 2,\n",
              "       8, 6, 1, 4, 1, 2, 4, 8, 5, 4, 5, 0, 3, 1, 9, 1, 0, 2, 2, 4, 9, 0,\n",
              "       8, 0, 9, 8, 9, 9, 3, 1, 1, 3, 1, 2, 7, 5, 4, 8, 6, 9, 1, 3, 1, 3,\n",
              "       5, 5, 9, 1, 7, 0, 1, 7, 7, 6, 1, 1, 7, 9, 6, 2, 3, 7, 4, 4, 9, 9,\n",
              "       4, 2, 3, 1, 3, 3, 5, 8, 1, 0, 6, 1])"
            ]
          },
          "metadata": {},
          "execution_count": 47
        }
      ]
    },
    {
      "cell_type": "code",
      "source": [
        "from sklearn.metrics import confusion_matrix as cm, classification_report as cr"
      ],
      "metadata": {
        "id": "w1MNJcxp4bz0"
      },
      "execution_count": 49,
      "outputs": []
    },
    {
      "cell_type": "code",
      "source": [
        "cm(y_test,y_pred)"
      ],
      "metadata": {
        "colab": {
          "base_uri": "https://localhost:8080/"
        },
        "id": "2_AJr6OT5g1D",
        "outputId": "63bd5126-e66e-4570-f2c6-546751901a64"
      },
      "execution_count": 50,
      "outputs": [
        {
          "output_type": "execute_result",
          "data": {
            "text/plain": [
              "array([[43,  0,  0,  0,  1,  0,  0,  0,  0,  0],\n",
              "       [ 0, 63,  0,  0,  0,  1,  0,  0,  0,  0],\n",
              "       [ 1,  0, 45,  0,  0,  0,  0,  0,  0,  0],\n",
              "       [ 0,  0,  0, 53,  0,  1,  0,  2,  2,  0],\n",
              "       [ 0,  0,  0,  0, 48,  0,  0,  0,  0,  0],\n",
              "       [ 0,  0,  0,  0,  0, 61,  0,  0,  0,  1],\n",
              "       [ 0,  0,  0,  0,  1,  0, 48,  0,  0,  0],\n",
              "       [ 0,  0,  0,  0,  0,  0,  0, 52,  0,  1],\n",
              "       [ 0,  2,  0,  0,  0,  0,  0,  0, 59,  0],\n",
              "       [ 0,  0,  0,  1,  0,  0,  0,  0,  0, 54]])"
            ]
          },
          "metadata": {},
          "execution_count": 50
        }
      ]
    },
    {
      "cell_type": "code",
      "source": [
        "print(cr(y_test,y_pred))"
      ],
      "metadata": {
        "colab": {
          "base_uri": "https://localhost:8080/"
        },
        "id": "oXpy24oA5hHQ",
        "outputId": "6aaef201-f418-4b85-f653-e67cf580d502"
      },
      "execution_count": 51,
      "outputs": [
        {
          "output_type": "stream",
          "name": "stdout",
          "text": [
            "              precision    recall  f1-score   support\n",
            "\n",
            "           0       0.98      0.98      0.98        44\n",
            "           1       0.97      0.98      0.98        64\n",
            "           2       1.00      0.98      0.99        46\n",
            "           3       0.98      0.91      0.95        58\n",
            "           4       0.96      1.00      0.98        48\n",
            "           5       0.97      0.98      0.98        62\n",
            "           6       1.00      0.98      0.99        49\n",
            "           7       0.96      0.98      0.97        53\n",
            "           8       0.97      0.97      0.97        61\n",
            "           9       0.96      0.98      0.97        55\n",
            "\n",
            "    accuracy                           0.97       540\n",
            "   macro avg       0.98      0.97      0.97       540\n",
            "weighted avg       0.97      0.97      0.97       540\n",
            "\n"
          ]
        }
      ]
    },
    {
      "cell_type": "code",
      "source": [
        ""
      ],
      "metadata": {
        "id": "x1UmLxmG5hTA"
      },
      "execution_count": null,
      "outputs": []
    }
  ]
}